{
 "cells": [
  {
   "cell_type": "code",
   "execution_count": 24,
   "metadata": {},
   "outputs": [],
   "source": [
    "import numpy as np\n",
    "\n",
    "english_score = np.array([55,89,76,65,48,70])\n",
    "math_score = np.array([60,85,60,68,np.nan,60])\n",
    "chinese_score = np.array([65,90,82,72,66,77])"
   ]
  },
  {
   "cell_type": "code",
   "execution_count": 25,
   "metadata": {},
   "outputs": [
    {
     "name": "stdout",
     "output_type": "stream",
     "text": [
      "英文平均 67.16666666666667\n",
      "英文最大 89\n",
      "英文最小 48\n",
      "英文標準差 13.433995020924426\n",
      "數學平均 66.6\n",
      "數學最大 85.0\n",
      "數學最小 60.0\n",
      "數學標準差 9.707728879609279\n",
      "國文平均 75.33333333333333\n",
      "國文最大 90\n",
      "國文最小 65\n",
      "國文標準差 8.825468196582484\n"
     ]
    }
   ],
   "source": [
    "#1. 請計算各科成績平均、最大值、最小值、標準差，其中數學缺一筆資料可忽略?\n",
    "\n",
    "english_score_Mean = english_score.mean()\n",
    "english_score_Max = english_score.max()\n",
    "english_score_Min = english_score.min()\n",
    "english_score_Std = english_score.std()\n",
    "\n",
    "print(\"英文平均 %s\" %english_score_Mean)\n",
    "print(\"英文最大 %s\" %english_score_Max)\n",
    "print(\"英文最小 %s\" %english_score_Min)\n",
    "print(\"英文標準差 %s\" %english_score_Std)\n",
    "\n",
    "math_score_Mean = np.nanmean(math_score)\n",
    "math_score_Max = np.nanmax(math_score)\n",
    "math_score_Min = np.nanmin(math_score)\n",
    "math_score_Std = np.nanstd(math_score)\n",
    "\n",
    "print(\"數學平均 %s\" %math_score_Mean)\n",
    "print(\"數學最大 %s\" %math_score_Max)\n",
    "print(\"數學最小 %s\" %math_score_Min)\n",
    "print(\"數學標準差 %s\" %math_score_Std)\n",
    "\n",
    "chinese_score_Mean = chinese_score.mean()\n",
    "chinese_score_Max = chinese_score.max()\n",
    "chinese_score_Min = chinese_score.min()\n",
    "chinese_score_Std = chinese_score.std()\n",
    "\n",
    "print(\"國文平均 %s\" %chinese_score_Mean)\n",
    "print(\"國文最大 %s\" %chinese_score_Max)\n",
    "print(\"國文最小 %s\" %chinese_score_Min)\n",
    "print(\"國文標準差 %s\" %chinese_score_Std)\n"
   ]
  },
  {
   "cell_type": "code",
   "execution_count": 26,
   "metadata": {},
   "outputs": [],
   "source": [
    "#2. 第五位同學補考數學後成績為55，請計算補考後數學成績平均、最大值、最小值、標準差?"
   ]
  },
  {
   "cell_type": "code",
   "execution_count": 27,
   "metadata": {},
   "outputs": [],
   "source": [
    "math_score[4] = 55"
   ]
  },
  {
   "cell_type": "code",
   "execution_count": 28,
   "metadata": {},
   "outputs": [
    {
     "name": "stdout",
     "output_type": "stream",
     "text": [
      "新的數學平均 64.66666666666667\n",
      "新的數學最大 85.0\n",
      "新的數學最小 55.0\n",
      "新的數學標準差 9.860132971832694\n"
     ]
    }
   ],
   "source": [
    "new_math_score_Mean = np.mean(math_score)\n",
    "new_math_score_Max = np.nanmax(math_score)\n",
    "new_math_score_Min = np.nanmin(math_score)\n",
    "new_math_score_Std = np.nanstd(math_score)\n",
    "\n",
    "print(\"新的數學平均 %s\" %new_math_score_Mean)\n",
    "print(\"新的數學最大 %s\" %new_math_score_Max)\n",
    "print(\"新的數學最小 %s\" %new_math_score_Min)\n",
    "print(\"新的數學標準差 %s\" %new_math_score_Std)"
   ]
  },
  {
   "cell_type": "code",
   "execution_count": 29,
   "metadata": {},
   "outputs": [],
   "source": [
    "#3. 用補考後資料找出與國文成績相關係數最高的學科?"
   ]
  },
  {
   "cell_type": "code",
   "execution_count": 44,
   "metadata": {},
   "outputs": [
    {
     "name": "stdout",
     "output_type": "stream",
     "text": [
      "係數最高的學科 : 英文\n"
     ]
    }
   ],
   "source": [
    "testCM = np.correlate(chinese_score, math_score, mode='valid')\n",
    "testCE = np.correlate(chinese_score, english_score, mode='valid')\n",
    "# print(np.max(testCE,testCM) )\n",
    "result = np.maximum(testCM,testCE)\n",
    "if(testCE>testCM):\n",
    "    print(\"係數最高的學科 : 英文\")\n",
    "else:\n",
    "    print(\"係數最高的學科 : 國文\")\n"
   ]
  },
  {
   "cell_type": "code",
   "execution_count": null,
   "metadata": {},
   "outputs": [],
   "source": []
  }
 ],
 "metadata": {
  "kernelspec": {
   "display_name": "Python 3",
   "language": "python",
   "name": "python3"
  },
  "language_info": {
   "codemirror_mode": {
    "name": "ipython",
    "version": 3
   },
   "file_extension": ".py",
   "mimetype": "text/x-python",
   "name": "python",
   "nbconvert_exporter": "python",
   "pygments_lexer": "ipython3",
   "version": "3.7.4"
  }
 },
 "nbformat": 4,
 "nbformat_minor": 2
}
