{
 "cells": [
  {
   "cell_type": "code",
   "execution_count": 2,
   "metadata": {},
   "outputs": [],
   "source": [
    "import numpy as np\n",
    "array1 = np.array([[10, 8], [3, 5]])"
   ]
  },
  {
   "cell_type": "code",
   "execution_count": 18,
   "metadata": {},
   "outputs": [
    {
     "name": "stdout",
     "output_type": "stream",
     "text": [
      "反矩陣 : [[ 0.19230769 -0.30769231]\n",
      " [-0.11538462  0.38461538]]\n",
      "是反矩陣 [[1. 0.]\n",
      " [0. 1.]]\n",
      "特徵值 [13.  2.]\n",
      "特徵向量 [[ 0.93632918 -0.70710678]\n",
      " [ 0.35112344  0.70710678]]\n",
      "SVD (array([[-0.91663818, -0.39971796],\n",
      "       [-0.39971796,  0.91663818]]), array([13.94721714,  1.86417116]), array([[-0.74319741, -0.6690722 ],\n",
      "       [-0.6690722 ,  0.74319741]]))\n"
     ]
    }
   ],
   "source": [
    "#1. 運用上列array計算反矩陣，乘上原矩陣，並觀察是否為單位矩陣?\n",
    "\n",
    "narray1 = np.linalg.inv(array1)\n",
    "\n",
    "print(\"反矩陣 : %s\" %narray1)\n",
    "\n",
    "single = np.dot(narray1,array1)\n",
    "\n",
    "print(\"是反矩陣\",single)\n",
    "\n",
    "#2. 運用上列array計算特徵值、特徵向量?\n",
    "w,v = np.linalg.eig(array1)\n",
    "print(\"特徵值 %s\" %w )\n",
    "\n",
    "print(\"特徵向量 %s\" %v)\n",
    "\n",
    "\n",
    "#3. 運用上列array計算SVD?\n",
    "\n",
    "svd = np.linalg.svd(array1)\n",
    "print(\"SVD\",svd)\n"
   ]
  },
  {
   "cell_type": "code",
   "execution_count": null,
   "metadata": {},
   "outputs": [],
   "source": []
  }
 ],
 "metadata": {
  "kernelspec": {
   "display_name": "Python 3",
   "language": "python",
   "name": "python3"
  },
  "language_info": {
   "codemirror_mode": {
    "name": "ipython",
    "version": 3
   },
   "file_extension": ".py",
   "mimetype": "text/x-python",
   "name": "python",
   "nbconvert_exporter": "python",
   "pygments_lexer": "ipython3",
   "version": "3.7.4"
  }
 },
 "nbformat": 4,
 "nbformat_minor": 2
}
