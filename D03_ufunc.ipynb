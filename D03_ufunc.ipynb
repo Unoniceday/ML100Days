{
 "cells": [
  {
   "cell_type": "code",
   "execution_count": 1,
   "metadata": {},
   "outputs": [],
   "source": [
    "import numpy as np"
   ]
  },
  {
   "cell_type": "code",
   "execution_count": 21,
   "metadata": {},
   "outputs": [
    {
     "name": "stdout",
     "output_type": "stream",
     "text": [
      "正常的談話的聲壓為 20000 微巴斯卡，請問多少分貝 : 60.0\n"
     ]
    }
   ],
   "source": [
    "# 1\n",
    "v1 = 20000\n",
    "v0 = 20\n",
    "\n",
    "x = np.log10(v1/v0)*20\n",
    "print(\"正常的談話的聲壓為 20000 微巴斯卡，請問多少分貝 :\",x)"
   ]
  },
  {
   "cell_type": "code",
   "execution_count": 39,
   "metadata": {},
   "outputs": [
    {
     "name": "stdout",
     "output_type": "stream",
     "text": [
      "分貝 30 的 為巴斯卡 :  12649.0\n",
      "分貝 50 的 為巴斯卡 :  126491.0\n",
      "30分貝的聲壓會是50分貝的 : 0.09999920942991991 倍\n"
     ]
    }
   ],
   "source": [
    "#2\n",
    "\n",
    "# G(dB) = 20*log10(v1/v0)\n",
    "# G(dB) = 20 * (log10(v1) - Log10(v0))\n",
    "# G(dB)/20 + Log10(v0) = Log10(v1)\n",
    "#  10^(G(dB)/20 + Log10(v0)) = v1\n",
    "\n",
    "def Get_uPa(Gdb) :\n",
    "    return np.rint(10 ** (Gdb/20 + np.log10(20)) * 20)\n",
    "\n",
    "\n",
    "v30 = Get_uPa(30) #np.power((30/20),10) * 20\n",
    "print(\"分貝 30 的 為巴斯卡 : \",v30)\n",
    "\n",
    "v50 = Get_uPa(50)\n",
    "print(\"分貝 50 的 為巴斯卡 : \",v50)\n",
    "\n",
    "#2.30分貝的聲壓會是50分貝的幾倍?\n",
    "\n",
    "result = v30 / v50\n",
    "print(\"30分貝的聲壓會是50分貝的 : %s 倍\" %result)\n",
    "\n"
   ]
  },
  {
   "cell_type": "code",
   "execution_count": null,
   "metadata": {},
   "outputs": [],
   "source": []
  }
 ],
 "metadata": {
  "kernelspec": {
   "display_name": "Python 3",
   "language": "python",
   "name": "python3"
  },
  "language_info": {
   "codemirror_mode": {
    "name": "ipython",
    "version": 3
   },
   "file_extension": ".py",
   "mimetype": "text/x-python",
   "name": "python",
   "nbconvert_exporter": "python",
   "pygments_lexer": "ipython3",
   "version": "3.7.4"
  }
 },
 "nbformat": 4,
 "nbformat_minor": 2
}
