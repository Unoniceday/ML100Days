{
 "cells": [
  {
   "cell_type": "code",
   "execution_count": 1,
   "metadata": {},
   "outputs": [],
   "source": [
    "import numpy as np\n",
    "\n",
    "name_list = ['小明','小華','小菁','小美','小張','John','Mark','Tom']\n",
    "\n",
    "sex_list = ['boy','boy','girl','girl','boy','boy','boy','boy']\n",
    "\n",
    "weight_list = [67.5,75.3,50.1,45.5,80.8,90.4,78.4,70.7]\n",
    "\n",
    "rank_list = [8,1,5,4,7,6,2,3]\n",
    "\n",
    "myopia_list = [True,True,False,False,True,True,False,False]"
   ]
  },
  {
   "cell_type": "code",
   "execution_count": 38,
   "metadata": {},
   "outputs": [
    {
     "name": "stdout",
     "output_type": "stream",
     "text": [
      "[('小明', 'boy', 67.5, 8,  True) ('小華', 'boy', 75.3, 1,  True)\n",
      " ('小菁', 'girl', 50.1, 5, False) ('小美', 'girl', 45.5, 4, False)\n",
      " ('小張', 'boy', 80.8, 7,  True) ('John', 'boy', 90.4, 6,  True)\n",
      " ('Mark', 'boy', 78.4, 2, False) ('Tom', 'boy', 70.7, 3, False)]\n",
      "全體體重平均 69.8375\n",
      "男生平均體重 77.18333333333332\n",
      "女生平均體重 47.8\n"
     ]
    }
   ],
   "source": [
    "#將上列 list 依照['name', 'sex', 'weight', 'rank', 'myopia']順序擺入 array，並且資料型態順序擺入[Unicode,Unicode,float,int,boolean]\n",
    "\n",
    "dt = np.dtype({'names':('name', 'sex', 'weight', 'rank','myopia'), 'formats':((np.str_, 5), (np.str_, 5), float, int,bool)})\n",
    "\n",
    "array = np.zeros(8, dtype=dt)\n",
    "\n",
    "array['name'] = name_list\n",
    "array['sex'] = sex_list\n",
    "array['weight'] = weight_list\n",
    "array['rank'] = rank_list\n",
    "array['myopia'] = myopia_list\n",
    "\n",
    "print(array)\n",
    "\n",
    "#呈上題，將 array 中體重(weight)數據集取出算出全部平均體重\n",
    "weightAverage = np.mean(array['weight'])\n",
    "\n",
    "print('全體體重平均',weightAverage)\n",
    "#呈上題，進一步算出男生(sex 欄位是 boy)平均體重、女生(sex 欄位是 girl)平均體重\n",
    "\n",
    "boyWeight = np.mean(array[array['sex']=='boy']['weight'])\n",
    "print('男生平均體重',boyWeight)\n",
    "girlWeight = np.mean(array[array['sex']=='girl']['weight'])\n",
    "print('女生平均體重',girlWeight)\n"
   ]
  },
  {
   "cell_type": "code",
   "execution_count": null,
   "metadata": {},
   "outputs": [],
   "source": []
  },
  {
   "cell_type": "code",
   "execution_count": null,
   "metadata": {},
   "outputs": [],
   "source": []
  }
 ],
 "metadata": {
  "kernelspec": {
   "display_name": "Python 3",
   "language": "python",
   "name": "python3"
  },
  "language_info": {
   "codemirror_mode": {
    "name": "ipython",
    "version": 3
   },
   "file_extension": ".py",
   "mimetype": "text/x-python",
   "name": "python",
   "nbconvert_exporter": "python",
   "pygments_lexer": "ipython3",
   "version": "3.7.4"
  }
 },
 "nbformat": 4,
 "nbformat_minor": 2
}
